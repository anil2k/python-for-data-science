{
 "cells": [
  {
   "cell_type": "code",
   "execution_count": 1,
   "metadata": {
    "collapsed": true
   },
   "outputs": [],
   "source": [
    "import numpy as np\n",
    "import pandas as pd\n",
    "from pandas import Series, DataFrame"
   ]
  },
  {
   "cell_type": "markdown",
   "metadata": {
    "collapsed": true
   },
   "source": [
    "# Series"
   ]
  },
  {
   "cell_type": "code",
   "execution_count": 2,
   "metadata": {
    "collapsed": true
   },
   "outputs": [],
   "source": [
    "s = Series(np.random.rand(10))"
   ]
  },
  {
   "cell_type": "code",
   "execution_count": 3,
   "metadata": {},
   "outputs": [
    {
     "data": {
      "text/plain": [
       "0    0.895995\n",
       "1    0.422362\n",
       "2    0.525176\n",
       "3    0.002981\n",
       "4    0.079975\n",
       "5    0.288771\n",
       "6    0.280811\n",
       "7    0.431455\n",
       "8    0.848355\n",
       "9    0.255357\n",
       "dtype: float64"
      ]
     },
     "execution_count": 3,
     "metadata": {},
     "output_type": "execute_result"
    }
   ],
   "source": [
    "s"
   ]
  },
  {
   "cell_type": "code",
   "execution_count": 5,
   "metadata": {},
   "outputs": [
    {
     "data": {
      "text/plain": [
       "0    0.895995\n",
       "8    0.848355\n",
       "2    0.525176\n",
       "7    0.431455\n",
       "1    0.422362\n",
       "5    0.288771\n",
       "6    0.280811\n",
       "9    0.255357\n",
       "4    0.079975\n",
       "3    0.002981\n",
       "dtype: float64"
      ]
     },
     "execution_count": 5,
     "metadata": {},
     "output_type": "execute_result"
    }
   ],
   "source": [
    "s.sort_values(ascending=False)"
   ]
  },
  {
   "cell_type": "code",
   "execution_count": 7,
   "metadata": {},
   "outputs": [
    {
     "data": {
      "text/plain": [
       "9    0.255357\n",
       "8    0.848355\n",
       "7    0.431455\n",
       "6    0.280811\n",
       "5    0.288771\n",
       "4    0.079975\n",
       "3    0.002981\n",
       "2    0.525176\n",
       "1    0.422362\n",
       "0    0.895995\n",
       "dtype: float64"
      ]
     },
     "execution_count": 7,
     "metadata": {},
     "output_type": "execute_result"
    }
   ],
   "source": [
    "s.sort_index(ascending=False)"
   ]
  },
  {
   "cell_type": "code",
   "execution_count": 8,
   "metadata": {},
   "outputs": [
    {
     "data": {
      "text/plain": [
       "0.89599530961136131"
      ]
     },
     "execution_count": 8,
     "metadata": {},
     "output_type": "execute_result"
    }
   ],
   "source": [
    "s.max()"
   ]
  },
  {
   "cell_type": "code",
   "execution_count": 9,
   "metadata": {},
   "outputs": [
    {
     "data": {
      "text/plain": [
       "0.0029814018055570601"
      ]
     },
     "execution_count": 9,
     "metadata": {},
     "output_type": "execute_result"
    }
   ],
   "source": [
    "s.min()"
   ]
  },
  {
   "cell_type": "code",
   "execution_count": 10,
   "metadata": {},
   "outputs": [
    {
     "data": {
      "text/plain": [
       "0.4031240375818784"
      ]
     },
     "execution_count": 10,
     "metadata": {},
     "output_type": "execute_result"
    }
   ],
   "source": [
    "s.mean()"
   ]
  },
  {
   "cell_type": "code",
   "execution_count": 13,
   "metadata": {
    "collapsed": true
   },
   "outputs": [],
   "source": [
    "s1 = Series([1,2,3], index=['A','B','C'])\n",
    "s2 = Series([4,5,6], index=['A','D','E'])"
   ]
  },
  {
   "cell_type": "code",
   "execution_count": 14,
   "metadata": {},
   "outputs": [
    {
     "data": {
      "text/plain": [
       "A    5.0\n",
       "B    NaN\n",
       "C    NaN\n",
       "D    NaN\n",
       "E    NaN\n",
       "dtype: float64"
      ]
     },
     "execution_count": 14,
     "metadata": {},
     "output_type": "execute_result"
    }
   ],
   "source": [
    "s1 + s2"
   ]
  },
  {
   "cell_type": "markdown",
   "metadata": {},
   "source": [
    "# DataFrame"
   ]
  },
  {
   "cell_type": "code",
   "execution_count": 15,
   "metadata": {
    "collapsed": true
   },
   "outputs": [],
   "source": [
    "df = DataFrame(np.random.rand(20).reshape(4,5))"
   ]
  },
  {
   "cell_type": "code",
   "execution_count": 16,
   "metadata": {},
   "outputs": [
    {
     "data": {
      "text/html": [
       "<div>\n",
       "<style>\n",
       "    .dataframe thead tr:only-child th {\n",
       "        text-align: right;\n",
       "    }\n",
       "\n",
       "    .dataframe thead th {\n",
       "        text-align: left;\n",
       "    }\n",
       "\n",
       "    .dataframe tbody tr th {\n",
       "        vertical-align: top;\n",
       "    }\n",
       "</style>\n",
       "<table border=\"1\" class=\"dataframe\">\n",
       "  <thead>\n",
       "    <tr style=\"text-align: right;\">\n",
       "      <th></th>\n",
       "      <th>0</th>\n",
       "      <th>1</th>\n",
       "      <th>2</th>\n",
       "      <th>3</th>\n",
       "      <th>4</th>\n",
       "    </tr>\n",
       "  </thead>\n",
       "  <tbody>\n",
       "    <tr>\n",
       "      <th>0</th>\n",
       "      <td>0.277048</td>\n",
       "      <td>0.545184</td>\n",
       "      <td>0.968063</td>\n",
       "      <td>0.536400</td>\n",
       "      <td>0.109467</td>\n",
       "    </tr>\n",
       "    <tr>\n",
       "      <th>1</th>\n",
       "      <td>0.140182</td>\n",
       "      <td>0.685473</td>\n",
       "      <td>0.390270</td>\n",
       "      <td>0.541698</td>\n",
       "      <td>0.064604</td>\n",
       "    </tr>\n",
       "    <tr>\n",
       "      <th>2</th>\n",
       "      <td>0.949339</td>\n",
       "      <td>0.666332</td>\n",
       "      <td>0.944015</td>\n",
       "      <td>0.744838</td>\n",
       "      <td>0.614101</td>\n",
       "    </tr>\n",
       "    <tr>\n",
       "      <th>3</th>\n",
       "      <td>0.653518</td>\n",
       "      <td>0.756664</td>\n",
       "      <td>0.411167</td>\n",
       "      <td>0.375631</td>\n",
       "      <td>0.788258</td>\n",
       "    </tr>\n",
       "  </tbody>\n",
       "</table>\n",
       "</div>"
      ],
      "text/plain": [
       "          0         1         2         3         4\n",
       "0  0.277048  0.545184  0.968063  0.536400  0.109467\n",
       "1  0.140182  0.685473  0.390270  0.541698  0.064604\n",
       "2  0.949339  0.666332  0.944015  0.744838  0.614101\n",
       "3  0.653518  0.756664  0.411167  0.375631  0.788258"
      ]
     },
     "execution_count": 16,
     "metadata": {},
     "output_type": "execute_result"
    }
   ],
   "source": [
    "df"
   ]
  },
  {
   "cell_type": "code",
   "execution_count": 18,
   "metadata": {},
   "outputs": [
    {
     "data": {
      "text/html": [
       "<div>\n",
       "<style>\n",
       "    .dataframe thead tr:only-child th {\n",
       "        text-align: right;\n",
       "    }\n",
       "\n",
       "    .dataframe thead th {\n",
       "        text-align: left;\n",
       "    }\n",
       "\n",
       "    .dataframe tbody tr th {\n",
       "        vertical-align: top;\n",
       "    }\n",
       "</style>\n",
       "<table border=\"1\" class=\"dataframe\">\n",
       "  <thead>\n",
       "    <tr style=\"text-align: right;\">\n",
       "      <th></th>\n",
       "      <th>0</th>\n",
       "      <th>1</th>\n",
       "      <th>2</th>\n",
       "      <th>3</th>\n",
       "      <th>4</th>\n",
       "    </tr>\n",
       "  </thead>\n",
       "  <tbody>\n",
       "    <tr>\n",
       "      <th>1</th>\n",
       "      <td>0.140182</td>\n",
       "      <td>0.685473</td>\n",
       "      <td>0.390270</td>\n",
       "      <td>0.541698</td>\n",
       "      <td>0.064604</td>\n",
       "    </tr>\n",
       "    <tr>\n",
       "      <th>0</th>\n",
       "      <td>0.277048</td>\n",
       "      <td>0.545184</td>\n",
       "      <td>0.968063</td>\n",
       "      <td>0.536400</td>\n",
       "      <td>0.109467</td>\n",
       "    </tr>\n",
       "    <tr>\n",
       "      <th>2</th>\n",
       "      <td>0.949339</td>\n",
       "      <td>0.666332</td>\n",
       "      <td>0.944015</td>\n",
       "      <td>0.744838</td>\n",
       "      <td>0.614101</td>\n",
       "    </tr>\n",
       "    <tr>\n",
       "      <th>3</th>\n",
       "      <td>0.653518</td>\n",
       "      <td>0.756664</td>\n",
       "      <td>0.411167</td>\n",
       "      <td>0.375631</td>\n",
       "      <td>0.788258</td>\n",
       "    </tr>\n",
       "  </tbody>\n",
       "</table>\n",
       "</div>"
      ],
      "text/plain": [
       "          0         1         2         3         4\n",
       "1  0.140182  0.685473  0.390270  0.541698  0.064604\n",
       "0  0.277048  0.545184  0.968063  0.536400  0.109467\n",
       "2  0.949339  0.666332  0.944015  0.744838  0.614101\n",
       "3  0.653518  0.756664  0.411167  0.375631  0.788258"
      ]
     },
     "execution_count": 18,
     "metadata": {},
     "output_type": "execute_result"
    }
   ],
   "source": [
    "df.sort_values(by=4)"
   ]
  },
  {
   "cell_type": "code",
   "execution_count": 19,
   "metadata": {},
   "outputs": [
    {
     "data": {
      "text/html": [
       "<div>\n",
       "<style>\n",
       "    .dataframe thead tr:only-child th {\n",
       "        text-align: right;\n",
       "    }\n",
       "\n",
       "    .dataframe thead th {\n",
       "        text-align: left;\n",
       "    }\n",
       "\n",
       "    .dataframe tbody tr th {\n",
       "        vertical-align: top;\n",
       "    }\n",
       "</style>\n",
       "<table border=\"1\" class=\"dataframe\">\n",
       "  <thead>\n",
       "    <tr style=\"text-align: right;\">\n",
       "      <th></th>\n",
       "      <th>4</th>\n",
       "      <th>0</th>\n",
       "      <th>2</th>\n",
       "      <th>3</th>\n",
       "      <th>1</th>\n",
       "    </tr>\n",
       "  </thead>\n",
       "  <tbody>\n",
       "    <tr>\n",
       "      <th>0</th>\n",
       "      <td>0.109467</td>\n",
       "      <td>0.277048</td>\n",
       "      <td>0.968063</td>\n",
       "      <td>0.536400</td>\n",
       "      <td>0.545184</td>\n",
       "    </tr>\n",
       "    <tr>\n",
       "      <th>1</th>\n",
       "      <td>0.064604</td>\n",
       "      <td>0.140182</td>\n",
       "      <td>0.390270</td>\n",
       "      <td>0.541698</td>\n",
       "      <td>0.685473</td>\n",
       "    </tr>\n",
       "    <tr>\n",
       "      <th>2</th>\n",
       "      <td>0.614101</td>\n",
       "      <td>0.949339</td>\n",
       "      <td>0.944015</td>\n",
       "      <td>0.744838</td>\n",
       "      <td>0.666332</td>\n",
       "    </tr>\n",
       "    <tr>\n",
       "      <th>3</th>\n",
       "      <td>0.788258</td>\n",
       "      <td>0.653518</td>\n",
       "      <td>0.411167</td>\n",
       "      <td>0.375631</td>\n",
       "      <td>0.756664</td>\n",
       "    </tr>\n",
       "  </tbody>\n",
       "</table>\n",
       "</div>"
      ],
      "text/plain": [
       "          4         0         2         3         1\n",
       "0  0.109467  0.277048  0.968063  0.536400  0.545184\n",
       "1  0.064604  0.140182  0.390270  0.541698  0.685473\n",
       "2  0.614101  0.949339  0.944015  0.744838  0.666332\n",
       "3  0.788258  0.653518  0.411167  0.375631  0.756664"
      ]
     },
     "execution_count": 19,
     "metadata": {},
     "output_type": "execute_result"
    }
   ],
   "source": [
    "df.sort_values(axis=1, by=1)"
   ]
  },
  {
   "cell_type": "code",
   "execution_count": 20,
   "metadata": {},
   "outputs": [
    {
     "data": {
      "text/html": [
       "<div>\n",
       "<style>\n",
       "    .dataframe thead tr:only-child th {\n",
       "        text-align: right;\n",
       "    }\n",
       "\n",
       "    .dataframe thead th {\n",
       "        text-align: left;\n",
       "    }\n",
       "\n",
       "    .dataframe tbody tr th {\n",
       "        vertical-align: top;\n",
       "    }\n",
       "</style>\n",
       "<table border=\"1\" class=\"dataframe\">\n",
       "  <thead>\n",
       "    <tr style=\"text-align: right;\">\n",
       "      <th></th>\n",
       "      <th>0</th>\n",
       "      <th>1</th>\n",
       "      <th>2</th>\n",
       "      <th>3</th>\n",
       "      <th>4</th>\n",
       "    </tr>\n",
       "  </thead>\n",
       "  <tbody>\n",
       "    <tr>\n",
       "      <th>0</th>\n",
       "      <td>0.277048</td>\n",
       "      <td>0.545184</td>\n",
       "      <td>0.968063</td>\n",
       "      <td>0.536400</td>\n",
       "      <td>0.109467</td>\n",
       "    </tr>\n",
       "    <tr>\n",
       "      <th>1</th>\n",
       "      <td>0.140182</td>\n",
       "      <td>0.685473</td>\n",
       "      <td>0.390270</td>\n",
       "      <td>0.541698</td>\n",
       "      <td>0.064604</td>\n",
       "    </tr>\n",
       "    <tr>\n",
       "      <th>2</th>\n",
       "      <td>0.949339</td>\n",
       "      <td>0.666332</td>\n",
       "      <td>0.944015</td>\n",
       "      <td>0.744838</td>\n",
       "      <td>0.614101</td>\n",
       "    </tr>\n",
       "    <tr>\n",
       "      <th>3</th>\n",
       "      <td>0.653518</td>\n",
       "      <td>0.756664</td>\n",
       "      <td>0.411167</td>\n",
       "      <td>0.375631</td>\n",
       "      <td>0.788258</td>\n",
       "    </tr>\n",
       "  </tbody>\n",
       "</table>\n",
       "</div>"
      ],
      "text/plain": [
       "          0         1         2         3         4\n",
       "0  0.277048  0.545184  0.968063  0.536400  0.109467\n",
       "1  0.140182  0.685473  0.390270  0.541698  0.064604\n",
       "2  0.949339  0.666332  0.944015  0.744838  0.614101\n",
       "3  0.653518  0.756664  0.411167  0.375631  0.788258"
      ]
     },
     "execution_count": 20,
     "metadata": {},
     "output_type": "execute_result"
    }
   ],
   "source": [
    "df.sort_index()"
   ]
  },
  {
   "cell_type": "code",
   "execution_count": 21,
   "metadata": {
    "collapsed": true
   },
   "outputs": [],
   "source": [
    "df1 = DataFrame(np.random.rand(20).reshape(4,5), index=[3,2,1,4])"
   ]
  },
  {
   "cell_type": "code",
   "execution_count": 22,
   "metadata": {},
   "outputs": [
    {
     "data": {
      "text/html": [
       "<div>\n",
       "<style>\n",
       "    .dataframe thead tr:only-child th {\n",
       "        text-align: right;\n",
       "    }\n",
       "\n",
       "    .dataframe thead th {\n",
       "        text-align: left;\n",
       "    }\n",
       "\n",
       "    .dataframe tbody tr th {\n",
       "        vertical-align: top;\n",
       "    }\n",
       "</style>\n",
       "<table border=\"1\" class=\"dataframe\">\n",
       "  <thead>\n",
       "    <tr style=\"text-align: right;\">\n",
       "      <th></th>\n",
       "      <th>0</th>\n",
       "      <th>1</th>\n",
       "      <th>2</th>\n",
       "      <th>3</th>\n",
       "      <th>4</th>\n",
       "    </tr>\n",
       "  </thead>\n",
       "  <tbody>\n",
       "    <tr>\n",
       "      <th>3</th>\n",
       "      <td>0.398153</td>\n",
       "      <td>0.519600</td>\n",
       "      <td>0.726107</td>\n",
       "      <td>0.696156</td>\n",
       "      <td>0.467307</td>\n",
       "    </tr>\n",
       "    <tr>\n",
       "      <th>2</th>\n",
       "      <td>0.001545</td>\n",
       "      <td>0.227136</td>\n",
       "      <td>0.759037</td>\n",
       "      <td>0.460519</td>\n",
       "      <td>0.077412</td>\n",
       "    </tr>\n",
       "    <tr>\n",
       "      <th>1</th>\n",
       "      <td>0.333948</td>\n",
       "      <td>0.060901</td>\n",
       "      <td>0.110663</td>\n",
       "      <td>0.110335</td>\n",
       "      <td>0.587698</td>\n",
       "    </tr>\n",
       "    <tr>\n",
       "      <th>4</th>\n",
       "      <td>0.129140</td>\n",
       "      <td>0.877505</td>\n",
       "      <td>0.163526</td>\n",
       "      <td>0.678825</td>\n",
       "      <td>0.044681</td>\n",
       "    </tr>\n",
       "  </tbody>\n",
       "</table>\n",
       "</div>"
      ],
      "text/plain": [
       "          0         1         2         3         4\n",
       "3  0.398153  0.519600  0.726107  0.696156  0.467307\n",
       "2  0.001545  0.227136  0.759037  0.460519  0.077412\n",
       "1  0.333948  0.060901  0.110663  0.110335  0.587698\n",
       "4  0.129140  0.877505  0.163526  0.678825  0.044681"
      ]
     },
     "execution_count": 22,
     "metadata": {},
     "output_type": "execute_result"
    }
   ],
   "source": [
    "df1"
   ]
  },
  {
   "cell_type": "code",
   "execution_count": 23,
   "metadata": {},
   "outputs": [
    {
     "data": {
      "text/html": [
       "<div>\n",
       "<style>\n",
       "    .dataframe thead tr:only-child th {\n",
       "        text-align: right;\n",
       "    }\n",
       "\n",
       "    .dataframe thead th {\n",
       "        text-align: left;\n",
       "    }\n",
       "\n",
       "    .dataframe tbody tr th {\n",
       "        vertical-align: top;\n",
       "    }\n",
       "</style>\n",
       "<table border=\"1\" class=\"dataframe\">\n",
       "  <thead>\n",
       "    <tr style=\"text-align: right;\">\n",
       "      <th></th>\n",
       "      <th>0</th>\n",
       "      <th>1</th>\n",
       "      <th>2</th>\n",
       "      <th>3</th>\n",
       "      <th>4</th>\n",
       "    </tr>\n",
       "  </thead>\n",
       "  <tbody>\n",
       "    <tr>\n",
       "      <th>0</th>\n",
       "      <td>0.277048</td>\n",
       "      <td>0.545184</td>\n",
       "      <td>0.968063</td>\n",
       "      <td>0.536400</td>\n",
       "      <td>0.109467</td>\n",
       "    </tr>\n",
       "    <tr>\n",
       "      <th>1</th>\n",
       "      <td>0.140182</td>\n",
       "      <td>0.685473</td>\n",
       "      <td>0.390270</td>\n",
       "      <td>0.541698</td>\n",
       "      <td>0.064604</td>\n",
       "    </tr>\n",
       "    <tr>\n",
       "      <th>2</th>\n",
       "      <td>0.949339</td>\n",
       "      <td>0.666332</td>\n",
       "      <td>0.944015</td>\n",
       "      <td>0.744838</td>\n",
       "      <td>0.614101</td>\n",
       "    </tr>\n",
       "    <tr>\n",
       "      <th>3</th>\n",
       "      <td>0.653518</td>\n",
       "      <td>0.756664</td>\n",
       "      <td>0.411167</td>\n",
       "      <td>0.375631</td>\n",
       "      <td>0.788258</td>\n",
       "    </tr>\n",
       "  </tbody>\n",
       "</table>\n",
       "</div>"
      ],
      "text/plain": [
       "          0         1         2         3         4\n",
       "0  0.277048  0.545184  0.968063  0.536400  0.109467\n",
       "1  0.140182  0.685473  0.390270  0.541698  0.064604\n",
       "2  0.949339  0.666332  0.944015  0.744838  0.614101\n",
       "3  0.653518  0.756664  0.411167  0.375631  0.788258"
      ]
     },
     "execution_count": 23,
     "metadata": {},
     "output_type": "execute_result"
    }
   ],
   "source": [
    "df.sort_index()"
   ]
  },
  {
   "cell_type": "code",
   "execution_count": 26,
   "metadata": {},
   "outputs": [
    {
     "data": {
      "text/plain": [
       "0    0.968063\n",
       "1    0.685473\n",
       "2    0.949339\n",
       "3    0.788258\n",
       "dtype: float64"
      ]
     },
     "execution_count": 26,
     "metadata": {},
     "output_type": "execute_result"
    }
   ],
   "source": [
    "df.max(axis=1)"
   ]
  },
  {
   "cell_type": "code",
   "execution_count": 25,
   "metadata": {},
   "outputs": [
    {
     "data": {
      "text/html": [
       "<div>\n",
       "<style>\n",
       "    .dataframe thead tr:only-child th {\n",
       "        text-align: right;\n",
       "    }\n",
       "\n",
       "    .dataframe thead th {\n",
       "        text-align: left;\n",
       "    }\n",
       "\n",
       "    .dataframe tbody tr th {\n",
       "        vertical-align: top;\n",
       "    }\n",
       "</style>\n",
       "<table border=\"1\" class=\"dataframe\">\n",
       "  <thead>\n",
       "    <tr style=\"text-align: right;\">\n",
       "      <th></th>\n",
       "      <th>0</th>\n",
       "      <th>1</th>\n",
       "      <th>2</th>\n",
       "      <th>3</th>\n",
       "      <th>4</th>\n",
       "    </tr>\n",
       "  </thead>\n",
       "  <tbody>\n",
       "    <tr>\n",
       "      <th>0</th>\n",
       "      <td>0.277048</td>\n",
       "      <td>0.545184</td>\n",
       "      <td>0.968063</td>\n",
       "      <td>0.536400</td>\n",
       "      <td>0.109467</td>\n",
       "    </tr>\n",
       "    <tr>\n",
       "      <th>1</th>\n",
       "      <td>0.140182</td>\n",
       "      <td>0.685473</td>\n",
       "      <td>0.390270</td>\n",
       "      <td>0.541698</td>\n",
       "      <td>0.064604</td>\n",
       "    </tr>\n",
       "    <tr>\n",
       "      <th>2</th>\n",
       "      <td>0.949339</td>\n",
       "      <td>0.666332</td>\n",
       "      <td>0.944015</td>\n",
       "      <td>0.744838</td>\n",
       "      <td>0.614101</td>\n",
       "    </tr>\n",
       "    <tr>\n",
       "      <th>3</th>\n",
       "      <td>0.653518</td>\n",
       "      <td>0.756664</td>\n",
       "      <td>0.411167</td>\n",
       "      <td>0.375631</td>\n",
       "      <td>0.788258</td>\n",
       "    </tr>\n",
       "  </tbody>\n",
       "</table>\n",
       "</div>"
      ],
      "text/plain": [
       "          0         1         2         3         4\n",
       "0  0.277048  0.545184  0.968063  0.536400  0.109467\n",
       "1  0.140182  0.685473  0.390270  0.541698  0.064604\n",
       "2  0.949339  0.666332  0.944015  0.744838  0.614101\n",
       "3  0.653518  0.756664  0.411167  0.375631  0.788258"
      ]
     },
     "execution_count": 25,
     "metadata": {},
     "output_type": "execute_result"
    }
   ],
   "source": [
    "df"
   ]
  },
  {
   "cell_type": "code",
   "execution_count": 27,
   "metadata": {},
   "outputs": [
    {
     "data": {
      "text/plain": [
       "0    0.140182\n",
       "1    0.545184\n",
       "2    0.390270\n",
       "3    0.375631\n",
       "4    0.064604\n",
       "dtype: float64"
      ]
     },
     "execution_count": 27,
     "metadata": {},
     "output_type": "execute_result"
    }
   ],
   "source": [
    "df.min()"
   ]
  },
  {
   "cell_type": "code",
   "execution_count": 30,
   "metadata": {},
   "outputs": [
    {
     "data": {
      "text/plain": [
       "0    0.505022\n",
       "1    0.663413\n",
       "2    0.678379\n",
       "3    0.549642\n",
       "4    0.394107\n",
       "dtype: float64"
      ]
     },
     "execution_count": 30,
     "metadata": {},
     "output_type": "execute_result"
    }
   ],
   "source": [
    "df.mean()"
   ]
  },
  {
   "cell_type": "code",
   "execution_count": 31,
   "metadata": {},
   "outputs": [
    {
     "data": {
      "text/html": [
       "<div>\n",
       "<style>\n",
       "    .dataframe thead tr:only-child th {\n",
       "        text-align: right;\n",
       "    }\n",
       "\n",
       "    .dataframe thead th {\n",
       "        text-align: left;\n",
       "    }\n",
       "\n",
       "    .dataframe tbody tr th {\n",
       "        vertical-align: top;\n",
       "    }\n",
       "</style>\n",
       "<table border=\"1\" class=\"dataframe\">\n",
       "  <thead>\n",
       "    <tr style=\"text-align: right;\">\n",
       "      <th></th>\n",
       "      <th>0</th>\n",
       "      <th>1</th>\n",
       "      <th>2</th>\n",
       "      <th>3</th>\n",
       "      <th>4</th>\n",
       "    </tr>\n",
       "  </thead>\n",
       "  <tbody>\n",
       "    <tr>\n",
       "      <th>count</th>\n",
       "      <td>4.000000</td>\n",
       "      <td>4.000000</td>\n",
       "      <td>4.000000</td>\n",
       "      <td>4.000000</td>\n",
       "      <td>4.000000</td>\n",
       "    </tr>\n",
       "    <tr>\n",
       "      <th>mean</th>\n",
       "      <td>0.505022</td>\n",
       "      <td>0.663413</td>\n",
       "      <td>0.678379</td>\n",
       "      <td>0.549642</td>\n",
       "      <td>0.394107</td>\n",
       "    </tr>\n",
       "    <tr>\n",
       "      <th>std</th>\n",
       "      <td>0.367219</td>\n",
       "      <td>0.087881</td>\n",
       "      <td>0.320878</td>\n",
       "      <td>0.151239</td>\n",
       "      <td>0.362098</td>\n",
       "    </tr>\n",
       "    <tr>\n",
       "      <th>min</th>\n",
       "      <td>0.140182</td>\n",
       "      <td>0.545184</td>\n",
       "      <td>0.390270</td>\n",
       "      <td>0.375631</td>\n",
       "      <td>0.064604</td>\n",
       "    </tr>\n",
       "    <tr>\n",
       "      <th>25%</th>\n",
       "      <td>0.242832</td>\n",
       "      <td>0.636045</td>\n",
       "      <td>0.405943</td>\n",
       "      <td>0.496208</td>\n",
       "      <td>0.098251</td>\n",
       "    </tr>\n",
       "    <tr>\n",
       "      <th>50%</th>\n",
       "      <td>0.465283</td>\n",
       "      <td>0.675902</td>\n",
       "      <td>0.677591</td>\n",
       "      <td>0.539049</td>\n",
       "      <td>0.361784</td>\n",
       "    </tr>\n",
       "    <tr>\n",
       "      <th>75%</th>\n",
       "      <td>0.727473</td>\n",
       "      <td>0.703271</td>\n",
       "      <td>0.950027</td>\n",
       "      <td>0.592483</td>\n",
       "      <td>0.657640</td>\n",
       "    </tr>\n",
       "    <tr>\n",
       "      <th>max</th>\n",
       "      <td>0.949339</td>\n",
       "      <td>0.756664</td>\n",
       "      <td>0.968063</td>\n",
       "      <td>0.744838</td>\n",
       "      <td>0.788258</td>\n",
       "    </tr>\n",
       "  </tbody>\n",
       "</table>\n",
       "</div>"
      ],
      "text/plain": [
       "              0         1         2         3         4\n",
       "count  4.000000  4.000000  4.000000  4.000000  4.000000\n",
       "mean   0.505022  0.663413  0.678379  0.549642  0.394107\n",
       "std    0.367219  0.087881  0.320878  0.151239  0.362098\n",
       "min    0.140182  0.545184  0.390270  0.375631  0.064604\n",
       "25%    0.242832  0.636045  0.405943  0.496208  0.098251\n",
       "50%    0.465283  0.675902  0.677591  0.539049  0.361784\n",
       "75%    0.727473  0.703271  0.950027  0.592483  0.657640\n",
       "max    0.949339  0.756664  0.968063  0.744838  0.788258"
      ]
     },
     "execution_count": 31,
     "metadata": {},
     "output_type": "execute_result"
    }
   ],
   "source": [
    "df.describe()"
   ]
  },
  {
   "cell_type": "code",
   "execution_count": null,
   "metadata": {
    "collapsed": true
   },
   "outputs": [],
   "source": []
  }
 ],
 "metadata": {
  "kernelspec": {
   "display_name": "Python 3",
   "language": "python",
   "name": "python3"
  },
  "language_info": {
   "codemirror_mode": {
    "name": "ipython",
    "version": 3
   },
   "file_extension": ".py",
   "mimetype": "text/x-python",
   "name": "python",
   "nbconvert_exporter": "python",
   "pygments_lexer": "ipython3",
   "version": "3.6.1"
  }
 },
 "nbformat": 4,
 "nbformat_minor": 2
}
