{
 "cells": [
  {
   "cell_type": "code",
   "execution_count": 1,
   "metadata": {
    "collapsed": true
   },
   "outputs": [],
   "source": [
    "import numpy as np\n",
    "import pandas as pd\n",
    "from pandas import Series, DataFrame"
   ]
  },
  {
   "cell_type": "code",
   "execution_count": 3,
   "metadata": {},
   "outputs": [],
   "source": [
    "import datetime"
   ]
  },
  {
   "cell_type": "code",
   "execution_count": 5,
   "metadata": {},
   "outputs": [
    {
     "data": {
      "text/plain": [
       "datetime.datetime(2016, 9, 20, 0, 0)"
      ]
     },
     "execution_count": 5,
     "metadata": {},
     "output_type": "execute_result"
    }
   ],
   "source": [
    "t = datetime.datetime(2016,9,20)\n",
    "t"
   ]
  },
  {
   "cell_type": "code",
   "execution_count": 6,
   "metadata": {
    "collapsed": true
   },
   "outputs": [],
   "source": [
    "t_list = [\n",
    "    datetime.datetime(2016,9,20),\n",
    "    datetime.datetime(2016,10,20),\n",
    "    datetime.datetime(2016,10,22),\n",
    "    datetime.datetime(2017,9,20),\n",
    "    datetime.datetime(2017,10,20)\n",
    "]"
   ]
  },
  {
   "cell_type": "code",
   "execution_count": 7,
   "metadata": {
    "collapsed": true
   },
   "outputs": [],
   "source": [
    "s1 = Series(np.random.rand(5), index=t_list)"
   ]
  },
  {
   "cell_type": "code",
   "execution_count": 8,
   "metadata": {},
   "outputs": [
    {
     "data": {
      "text/plain": [
       "2016-09-20    0.594208\n",
       "2016-10-20    0.301122\n",
       "2016-10-22    0.808485\n",
       "2017-09-20    0.349153\n",
       "2017-10-20    0.877538\n",
       "dtype: float64"
      ]
     },
     "execution_count": 8,
     "metadata": {},
     "output_type": "execute_result"
    }
   ],
   "source": [
    "s1"
   ]
  },
  {
   "cell_type": "code",
   "execution_count": 9,
   "metadata": {},
   "outputs": [
    {
     "data": {
      "text/plain": [
       "0.59420787784338314"
      ]
     },
     "execution_count": 9,
     "metadata": {},
     "output_type": "execute_result"
    }
   ],
   "source": [
    "s1['2016-09-20']"
   ]
  },
  {
   "cell_type": "code",
   "execution_count": 10,
   "metadata": {},
   "outputs": [
    {
     "data": {
      "text/plain": [
       "2016-09-20    0.594208\n",
       "2016-10-20    0.301122\n",
       "2016-10-22    0.808485\n",
       "dtype: float64"
      ]
     },
     "execution_count": 10,
     "metadata": {},
     "output_type": "execute_result"
    }
   ],
   "source": [
    "s1['2016']"
   ]
  },
  {
   "cell_type": "code",
   "execution_count": 11,
   "metadata": {},
   "outputs": [
    {
     "data": {
      "text/plain": [
       "2016-10-20    0.301122\n",
       "2016-10-22    0.808485\n",
       "dtype: float64"
      ]
     },
     "execution_count": 11,
     "metadata": {},
     "output_type": "execute_result"
    }
   ],
   "source": [
    "s1['2016-10']"
   ]
  },
  {
   "cell_type": "code",
   "execution_count": 12,
   "metadata": {},
   "outputs": [
    {
     "data": {
      "text/plain": [
       "0.59420787784338314"
      ]
     },
     "execution_count": 12,
     "metadata": {},
     "output_type": "execute_result"
    }
   ],
   "source": [
    "s1[0]"
   ]
  },
  {
   "cell_type": "code",
   "execution_count": 13,
   "metadata": {},
   "outputs": [
    {
     "data": {
      "text/plain": [
       "0.59420787784338314"
      ]
     },
     "execution_count": 13,
     "metadata": {},
     "output_type": "execute_result"
    }
   ],
   "source": [
    "s1[datetime.datetime(2016,9,20)]"
   ]
  },
  {
   "cell_type": "code",
   "execution_count": 21,
   "metadata": {},
   "outputs": [],
   "source": [
    "t = pd.date_range(start='2017-01-01', periods=10, freq='W')"
   ]
  },
  {
   "cell_type": "code",
   "execution_count": 22,
   "metadata": {},
   "outputs": [
    {
     "data": {
      "text/plain": [
       "DatetimeIndex(['2017-01-01', '2017-01-08', '2017-01-15', '2017-01-22',\n",
       "               '2017-01-29', '2017-02-05', '2017-02-12', '2017-02-19',\n",
       "               '2017-02-26', '2017-03-05'],\n",
       "              dtype='datetime64[ns]', freq='W-SUN')"
      ]
     },
     "execution_count": 22,
     "metadata": {},
     "output_type": "execute_result"
    }
   ],
   "source": [
    "t"
   ]
  },
  {
   "cell_type": "code",
   "execution_count": 23,
   "metadata": {
    "collapsed": true
   },
   "outputs": [],
   "source": [
    "s2 = Series(np.random.rand(100), index=pd.date_range(start='20170101', periods=100))"
   ]
  },
  {
   "cell_type": "code",
   "execution_count": 24,
   "metadata": {},
   "outputs": [
    {
     "data": {
      "text/plain": [
       "2017-01-01    0.053170\n",
       "2017-01-02    0.369401\n",
       "2017-01-03    0.224097\n",
       "2017-01-04    0.246479\n",
       "2017-01-05    0.942847\n",
       "2017-01-06    0.877836\n",
       "2017-01-07    0.265749\n",
       "2017-01-08    0.001202\n",
       "2017-01-09    0.930106\n",
       "2017-01-10    0.287919\n",
       "2017-01-11    0.172346\n",
       "2017-01-12    0.756184\n",
       "2017-01-13    0.942468\n",
       "2017-01-14    0.403611\n",
       "2017-01-15    0.866084\n",
       "2017-01-16    0.183591\n",
       "2017-01-17    0.095589\n",
       "2017-01-18    0.494924\n",
       "2017-01-19    0.356734\n",
       "2017-01-20    0.046751\n",
       "2017-01-21    0.115510\n",
       "2017-01-22    0.977433\n",
       "2017-01-23    0.251873\n",
       "2017-01-24    0.416364\n",
       "2017-01-25    0.057017\n",
       "2017-01-26    0.424787\n",
       "2017-01-27    0.763381\n",
       "2017-01-28    0.054481\n",
       "2017-01-29    0.824917\n",
       "2017-01-30    0.801307\n",
       "                ...   \n",
       "2017-03-12    0.915499\n",
       "2017-03-13    0.827031\n",
       "2017-03-14    0.675535\n",
       "2017-03-15    0.428204\n",
       "2017-03-16    0.173198\n",
       "2017-03-17    0.553767\n",
       "2017-03-18    0.070816\n",
       "2017-03-19    0.592403\n",
       "2017-03-20    0.708032\n",
       "2017-03-21    0.842779\n",
       "2017-03-22    0.036673\n",
       "2017-03-23    0.310134\n",
       "2017-03-24    0.642205\n",
       "2017-03-25    0.639109\n",
       "2017-03-26    0.464394\n",
       "2017-03-27    0.021426\n",
       "2017-03-28    0.710322\n",
       "2017-03-29    0.797886\n",
       "2017-03-30    0.001494\n",
       "2017-03-31    0.472233\n",
       "2017-04-01    0.815997\n",
       "2017-04-02    0.777805\n",
       "2017-04-03    0.218515\n",
       "2017-04-04    0.794694\n",
       "2017-04-05    0.635887\n",
       "2017-04-06    0.979751\n",
       "2017-04-07    0.193824\n",
       "2017-04-08    0.122330\n",
       "2017-04-09    0.773813\n",
       "2017-04-10    0.053993\n",
       "Freq: D, Length: 100, dtype: float64"
      ]
     },
     "execution_count": 24,
     "metadata": {},
     "output_type": "execute_result"
    }
   ],
   "source": [
    "s2"
   ]
  },
  {
   "cell_type": "code",
   "execution_count": null,
   "metadata": {
    "collapsed": true
   },
   "outputs": [],
   "source": []
  }
 ],
 "metadata": {
  "kernelspec": {
   "display_name": "Python 3",
   "language": "python",
   "name": "python3"
  },
  "language_info": {
   "codemirror_mode": {
    "name": "ipython",
    "version": 3
   },
   "file_extension": ".py",
   "mimetype": "text/x-python",
   "name": "python",
   "nbconvert_exporter": "python",
   "pygments_lexer": "ipython3",
   "version": "3.6.1"
  }
 },
 "nbformat": 4,
 "nbformat_minor": 2
}
